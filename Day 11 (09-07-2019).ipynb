{
 "cells": [
  {
   "cell_type": "code",
   "execution_count": 1,
   "metadata": {},
   "outputs": [
    {
     "data": {
      "text/plain": [
       "53"
      ]
     },
     "execution_count": 1,
     "metadata": {},
     "output_type": "execute_result"
    }
   ],
   "source": [
    "17+36"
   ]
  },
  {
   "cell_type": "code",
   "execution_count": 4,
   "metadata": {},
   "outputs": [
    {
     "name": "stdout",
     "output_type": "stream",
     "text": [
      "44\n",
      "-20\n"
     ]
    }
   ],
   "source": [
    "x = 12 #variables\n",
    "y = 32\n",
    "print( x + y )\n",
    "print(x - y)"
   ]
  },
  {
   "cell_type": "code",
   "execution_count": 5,
   "metadata": {},
   "outputs": [
    {
     "name": "stdout",
     "output_type": "stream",
     "text": [
      "enter value 112\n",
      "enter value 223\n",
      "35\n",
      "-11\n"
     ]
    }
   ],
   "source": [
    "x = int(input(\"enter value 1\"))\n",
    "y = int(input(\"enter value 2\"))\n",
    "print(x + y)\n",
    "print( x - y)"
   ]
  },
  {
   "cell_type": "markdown",
   "metadata": {},
   "source": [
    "### accept three values from the user\n",
    "* name, percentage , age"
   ]
  },
  {
   "cell_type": "code",
   "execution_count": 7,
   "metadata": {},
   "outputs": [
    {
     "name": "stdout",
     "output_type": "stream",
     "text": [
      "enter your namepoornima\n",
      "enter your percentage 99.9\n",
      "enter your age18\n",
      "my name is  poornima  My percentage is  99.9 my age is 18\n"
     ]
    }
   ],
   "source": [
    "x = input(\"enter your name\")\n",
    "y = float(input(\"enter your percentage \"))\n",
    "z =int(input(\"enter your age\"))\n",
    "print(\"my name is \", x ,\" My percentage is \",y,\"my age is\",z )"
   ]
  },
  {
   "cell_type": "markdown",
   "metadata": {},
   "source": [
    "## condition control statements if, else, elif"
   ]
  },
  {
   "cell_type": "code",
   "execution_count": 22,
   "metadata": {},
   "outputs": [
    {
     "name": "stdout",
     "output_type": "stream",
     "text": [
      "enter a value2\n",
      "2 is even\n"
     ]
    }
   ],
   "source": [
    "x = int(input( \"enter a value\" ))\n",
    "if(x % 2 == 0):\n",
    "    print( x,\"is even\")\n",
    "else:\n",
    "    print(\"the number is odd\")"
   ]
  },
  {
   "cell_type": "code",
   "execution_count": 26,
   "metadata": {},
   "outputs": [
    {
     "name": "stdout",
     "output_type": "stream",
     "text": [
      "enter age34\n",
      "eligible\n"
     ]
    }
   ],
   "source": [
    "x = int(input(\"enter age\"))\n",
    "if(x >= 18 and x <= 85 ):\n",
    "    print(\"eligible\")\n",
    "else:\n",
    "    print(\"not eligible\")"
   ]
  },
  {
   "cell_type": "code",
   "execution_count": 27,
   "metadata": {},
   "outputs": [
    {
     "name": "stdout",
     "output_type": "stream",
     "text": [
      "enter a number0\n",
      "number is zero\n"
     ]
    }
   ],
   "source": [
    "x = float(input(\"enter a number\"))\n",
    "if x >0:\n",
    "    print(\"positive\")\n",
    "elif x <0:\n",
    "    print(\"negative\")\n",
    "else:\n",
    "    print(\"number is zero\")"
   ]
  },
  {
   "cell_type": "code",
   "execution_count": 30,
   "metadata": {},
   "outputs": [
    {
     "name": "stdout",
     "output_type": "stream",
     "text": [
      "enter number12\n",
      "enter number223\n",
      "enter number334\n",
      "34 is greater\n"
     ]
    }
   ],
   "source": [
    "x = int(input(\"enter number1\"))\n",
    "y = int(input(\"enter number2\"))\n",
    "z = int(input(\"enter number3\"))\n",
    "if x > y and x > z:\n",
    "    print(x,\"is greater\")\n",
    "elif y > x and y > z:\n",
    "    print(y,\"is greater\")\n",
    "elif z > x and z > y:\n",
    "    print(z,\"is greater\")\n",
    "else:\n",
    "    print(\"two/three numbers are same\")"
   ]
  },
  {
   "cell_type": "markdown",
   "metadata": {},
   "source": [
    "## equation ax^2 +bx+ c=0\n",
    "## accept a,b,c values\n",
    "## delta(b^2-a*a*c)==0 equal roots\n",
    "## delta < 0 , we cannot findout roots\n",
    "## delta > 0 , we can find out to roots\n",
    "## formula : (-b+sqrt(b^2-4*a*c))//2a,(-b-sqrt(b^2-4*a*c))//2a"
   ]
  }
 ],
 "metadata": {
  "kernelspec": {
   "display_name": "Python 3",
   "language": "python",
   "name": "python3"
  },
  "language_info": {
   "codemirror_mode": {
    "name": "ipython",
    "version": 3
   },
   "file_extension": ".py",
   "mimetype": "text/x-python",
   "name": "python",
   "nbconvert_exporter": "python",
   "pygments_lexer": "ipython3",
   "version": "3.7.3"
  }
 },
 "nbformat": 4,
 "nbformat_minor": 2
}
