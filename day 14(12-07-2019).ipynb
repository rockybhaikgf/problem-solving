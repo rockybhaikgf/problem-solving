{
 "cells": [
  {
   "cell_type": "markdown",
   "metadata": {},
   "source": [
    "### string built-in methods:\n",
    "### 1.capitalize()-->\\\n",
    "### 2.center(width,fillchar)\n",
    "### 3.count(sub,start,end)\n",
    "### 4.index()\n",
    "### 5.lower()\n",
    "### 6.upper()\n",
    "### 7.isalpha()\n",
    "### 8.isdigit()\n",
    "### 9.isalnum()\n",
    "### 10.swapcase()\n",
    "### 11. repalce(old,new,"
   ]
  },
  {
   "cell_type": "code",
   "execution_count": 23,
   "metadata": {},
   "outputs": [
    {
     "name": "stdout",
     "output_type": "stream",
     "text": [
      "Abcabcabc\n",
      "$$$abcABCabc$$$\n",
      "2\n",
      "3\n",
      "abcabcabc\n",
      "ABCABCABC\n",
      "True\n",
      "False\n",
      "ABCabcABC\n"
     ]
    }
   ],
   "source": [
    "str1 = \"abcABCabc\"\n",
    "print(str1.capitalize())\n",
    "print(str1.center(15,\"$\"))\n",
    "print(str1.count('abc'))\n",
    "print(str1.index('ABC'))\n",
    "print(str1.lower())\n",
    "print(str1.upper())\n",
    "print(str1.isalpha())\n",
    "print(str1.isdigit())\n",
    "print(str1.swapcase())"
   ]
  },
  {
   "cell_type": "code",
   "execution_count": 25,
   "metadata": {},
   "outputs": [
    {
     "name": "stdout",
     "output_type": "stream",
     "text": [
      "False\n",
      "False\n",
      "True\n",
      "False\n",
      "True\n",
      "False\n",
      "True\n",
      "True\n",
      "True\n"
     ]
    }
   ],
   "source": [
    "str1 = \"abcABC123\"\n",
    "str2 = \"123\"\n",
    "str3 = \"abc\"\n",
    "print(str1.isalpha())\n",
    "print(str2.isalpha())\n",
    "print(str3.isalpha())\n",
    "print(str1.isdigit())\n",
    "print(str2.isdigit())\n",
    "print(str3.isdigit())\n",
    "print(str1.isalnum())\n",
    "print(str2.isalnum())\n",
    "print(str3.isalnum())"
   ]
  },
  {
   "cell_type": "code",
   "execution_count": 28,
   "metadata": {},
   "outputs": [
    {
     "data": {
      "text/plain": [
       "'@bc@bcabc'"
      ]
     },
     "execution_count": 28,
     "metadata": {},
     "output_type": "execute_result"
    }
   ],
   "source": [
    "str1 = \"abcabcabc\"\n",
    "str1.replace('a','@',2)"
   ]
  },
  {
   "cell_type": "code",
   "execution_count": 29,
   "metadata": {},
   "outputs": [
    {
     "data": {
      "text/plain": [
       "['abcde', 'abc', 'abc', 'abc', '']"
      ]
     },
     "execution_count": 29,
     "metadata": {},
     "output_type": "execute_result"
    }
   ],
   "source": [
    "str1 = \"abcde@abc@abc@abc@\"\n",
    "str1.split('@')"
   ]
  },
  {
   "cell_type": "code",
   "execution_count": 30,
   "metadata": {},
   "outputs": [
    {
     "data": {
      "text/plain": [
       "16"
      ]
     },
     "execution_count": 30,
     "metadata": {},
     "output_type": "execute_result"
    }
   ],
   "source": [
    "str1 = \"abcdefghigjyrsks\"\n",
    "len(str1)"
   ]
  },
  {
   "cell_type": "markdown",
   "metadata": {},
   "source": [
    "### find out the length of string without using len()\n",
    "### input:\"abcABC123\"\n",
    "### output : 9"
   ]
  },
  {
   "cell_type": "code",
   "execution_count": 35,
   "metadata": {},
   "outputs": [
    {
     "name": "stdout",
     "output_type": "stream",
     "text": [
      "9\n",
      "3\n"
     ]
    }
   ],
   "source": [
    "def length(str1):\n",
    "    count = 0 \n",
    "    for i in str1 :\n",
    "        count +=1 \n",
    "    return count\n",
    "print(length(\"abcABC123\"))\n",
    "print(length(\"xyz\"))"
   ]
  },
  {
   "cell_type": "markdown",
   "metadata": {},
   "source": [
    "### function to findout the sum of all the digits in a string\n",
    "### input:\"abc123ABC'\n",
    "### output:1+2+3+4=10"
   ]
  },
  {
   "cell_type": "code",
   "execution_count": 37,
   "metadata": {},
   "outputs": [
    {
     "name": "stdout",
     "output_type": "stream",
     "text": [
      "6\n",
      "21\n"
     ]
    }
   ],
   "source": [
    "def sum_of_digits(str1):\n",
    "    sum = 0\n",
    "    for i in str1:#i-->string value\n",
    "        if i.isdigit():\n",
    "            sum = sum + int(i)\n",
    "    return sum \n",
    "print(sum_of_digits(\"abc123\"))\n",
    "print(sum_of_digits(\"123456\"))"
   ]
  },
  {
   "cell_type": "code",
   "execution_count": 38,
   "metadata": {
    "scrolled": true
   },
   "outputs": [
    {
     "name": "stdout",
     "output_type": "stream",
     "text": [
      "<class 'list'>\n",
      "[12, 13, 45, 667, 'abc']\n"
     ]
    }
   ],
   "source": [
    "#list\n",
    "list1 = [12,13,45,667,'abc']\n",
    "print(type(list1))\n",
    "print(list1)"
   ]
  },
  {
   "cell_type": "code",
   "execution_count": null,
   "metadata": {},
   "outputs": [],
   "source": [
    "#slicing"
   ]
  }
 ],
 "metadata": {
  "kernelspec": {
   "display_name": "Python 3",
   "language": "python",
   "name": "python3"
  },
  "language_info": {
   "codemirror_mode": {
    "name": "ipython",
    "version": 3
   },
   "file_extension": ".py",
   "mimetype": "text/x-python",
   "name": "python",
   "nbconvert_exporter": "python",
   "pygments_lexer": "ipython3",
   "version": "3.7.3"
  }
 },
 "nbformat": 4,
 "nbformat_minor": 2
}
